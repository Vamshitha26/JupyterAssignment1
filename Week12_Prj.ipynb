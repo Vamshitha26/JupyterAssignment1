{
 "cells": [
  {
   "cell_type": "code",
   "execution_count": null,
   "id": "6e703e44-4e6c-4f41-b40c-0aae5db44df2",
   "metadata": {},
   "outputs": [
    {
     "name": "stdout",
     "output_type": "stream",
     "text": [
      "--------------- Welcome to MyMart ---------------\n"
     ]
    }
   ],
   "source": [
    "products = {\"Apples\":40, \"Chips\":10, \"Avacados\":60,\"Water\":15}# defined the products\n",
    "print (\"-\"*15, \"Welcome to MyMart\", \"-\"*15)\n",
    "\n",
    "while True: # while loop for multiple customers\n",
    "        cart= {}\n",
    "        amount = 0\n",
    "        discount=0\n",
    "        Name = (input(\"Enter your name:\"))\n",
    "        for i,j in products.items():\n",
    "            print(\" \"*7,i,\":\",j)\n",
    "            \n",
    "        while True:  #loop to enter multiple products\n",
    "            p_name = input(\"enter the prdoucts you wish to buy\").capitalize()\n",
    "            qty = float(input(\"Enter the qty\"))\n",
    "            value =[]          #for displaying the qty price and name of each product on the recipt\n",
    "            value.append(qty)\n",
    "            value.append(products[p_name])\n",
    "            value.append(products[p_name]*qty)\n",
    "            cart[p_name] = value\n",
    "            amount += products[p_name]*qty\n",
    "            repeat = input(\"Do you want to add more items? (Yes/No)\").capitalize()\n",
    "            if repeat == \"No\":\n",
    "                break         \n",
    "             \n",
    "            if amount <= 500: #discount logic\n",
    "                discount = 0\n",
    "            elif amount <= 1000:\n",
    "                discount = 0.05\n",
    "            elif discount <= 2000:\n",
    "                discount = 0.10\n",
    "            else:\n",
    "                discount=0.15\n",
    "                \n",
    "        Act_amt = amount - (amount*discount)\n",
    "        print (\"-\"*15, \"Receipt\", \"-\"*15) # all the print statements to display the prodcuts that are purchased\n",
    "        print(\"Name \",Name)\n",
    "        for i, j in cart.items():\n",
    "            print(i, \":\",j[0],\"x\",j[1],\"=\",j[2])        \n",
    "            print(\"Total Amount\", amount)\n",
    "            print(\"Discount Applied\", discount*100,\"%\")\n",
    "            print(\"Amount Payable\", Act_amt)\n",
    "        n_person = input(\"Start over? Yes/No\").capitalize()\n",
    "        if n_person == \"No\":\n",
    "            break\n",
    "            \n",
    "     \n",
    "\n",
    "\n",
    "       \n"
   ]
  },
  {
   "cell_type": "markdown",
   "id": "2e1ff6a2-9ec4-4f73-8711-a7b692ef77ff",
   "metadata": {},
   "source": [
    "### "
   ]
  },
  {
   "cell_type": "code",
   "execution_count": null,
   "id": "7a56285e-1c28-4772-9b8b-58dee7a20a6d",
   "metadata": {},
   "outputs": [],
   "source": []
  },
  {
   "cell_type": "code",
   "execution_count": null,
   "id": "44da4e85-7792-419a-affe-71e0da9f195c",
   "metadata": {},
   "outputs": [],
   "source": []
  }
 ],
 "metadata": {
  "kernelspec": {
   "display_name": "Python 3 (ipykernel)",
   "language": "python",
   "name": "python3"
  },
  "language_info": {
   "codemirror_mode": {
    "name": "ipython",
    "version": 3
   },
   "file_extension": ".py",
   "mimetype": "text/x-python",
   "name": "python",
   "nbconvert_exporter": "python",
   "pygments_lexer": "ipython3",
   "version": "3.13.1"
  }
 },
 "nbformat": 4,
 "nbformat_minor": 5
}
