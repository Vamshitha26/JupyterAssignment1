{
 "cells": [
  {
   "cell_type": "markdown",
   "id": "a18ec7b5-440a-47a4-9a68-3c6244303c8d",
   "metadata": {},
   "source": [
    "# Data Science Tools and Ecosystem"
   ]
  },
  {
   "cell_type": "markdown",
   "id": "f9c09918-6b5b-4ac9-a297-d91013f64d2f",
   "metadata": {},
   "source": [
    "In this notebook, Data Science Tools and Ecosystem are summarized."
   ]
  },
  {
   "cell_type": "markdown",
   "id": "916d1d31-f8cc-4e8c-8f2c-560ceed96c49",
   "metadata": {},
   "source": [
    "Some of the popular languages that Data Scientists use are:\n",
    "1. Python\n",
    "2. SQL\n",
    "3. C++\n",
    "4. Java"
   ]
  },
  {
   "cell_type": "markdown",
   "id": "30a5a6f3-3982-4ca2-8fd7-5164dea84490",
   "metadata": {},
   "source": [
    "Some of the commonly used libraries used by Data Scientists include:\n",
    "1. Pandas\n",
    "2. Numpy\n",
    "3. Matplotlib\n",
    "4. ggplot"
   ]
  },
  {
   "cell_type": "markdown",
   "id": "9b716555-be75-4b09-a50a-6b6a041422b9",
   "metadata": {},
   "source": [
    "|Data Science Tools |\n",
    "|------------------ |\n",
    "|Jupyter Notebook |\n",
    "|R|\n",
    "|Visual Studio Code|\n",
    "|IBM Watson Studio|"
   ]
  },
  {
   "cell_type": "markdown",
   "id": "5743b28e-e401-4287-8253-167022528590",
   "metadata": {},
   "source": [
    "### Below are a few examples of evaluating arithmetic expressions in Python"
   ]
  },
  {
   "cell_type": "code",
   "execution_count": 48,
   "id": "aac83c8d-aa74-4d18-93d6-28aa5211cb78",
   "metadata": {},
   "outputs": [
    {
     "data": {
      "text/plain": [
       "17"
      ]
     },
     "execution_count": 48,
     "metadata": {},
     "output_type": "execute_result"
    }
   ],
   "source": [
    "# This a simple arithmetic expression to mutiply then add integers\n",
    "(3*4)+5"
   ]
  },
  {
   "cell_type": "code",
   "execution_count": 50,
   "id": "62227a84-787c-4ead-a1e7-215c25df6b37",
   "metadata": {},
   "outputs": [
    {
     "data": {
      "text/plain": [
       "3.3333333333333335"
      ]
     },
     "execution_count": 50,
     "metadata": {},
     "output_type": "execute_result"
    }
   ],
   "source": [
    "# This will convert 200 minutes to hours by diving by 60\n",
    "200/60"
   ]
  },
  {
   "cell_type": "markdown",
   "id": "0d4bdcde-8b0d-456b-9d0f-560de5d6c8d9",
   "metadata": {},
   "source": [
    "**Objectives:**\n",
    "* List popular tools for Data Science\n",
    "* Introduction to various libraries used in Data Science\n",
    "* Introduction to IBM Watson Studio\n",
    "* Introduction to GitHub\n",
    "* Introductoin to various languages used in Data Science"
   ]
  },
  {
   "cell_type": "markdown",
   "id": "937be457-4f77-4ad9-ad00-f2e6eed429b5",
   "metadata": {},
   "source": [
    "## Author\n",
    "Vamshitha Kundoor"
   ]
  },
  {
   "cell_type": "code",
   "execution_count": null,
   "id": "cc86b478-8bf4-435d-a3d6-3e1733eca942",
   "metadata": {},
   "outputs": [],
   "source": []
  },
  {
   "cell_type": "code",
   "execution_count": null,
   "id": "a6f1cc76-f940-4d11-ba2a-13464e44934e",
   "metadata": {},
   "outputs": [],
   "source": []
  },
  {
   "cell_type": "code",
   "execution_count": null,
   "id": "863fb4a7-da52-498e-9f72-e7a6df0c258b",
   "metadata": {},
   "outputs": [],
   "source": []
  },
  {
   "cell_type": "code",
   "execution_count": null,
   "id": "a5db3042-c966-4d07-9f23-f7680bed901d",
   "metadata": {},
   "outputs": [],
   "source": []
  },
  {
   "cell_type": "code",
   "execution_count": null,
   "id": "7b23989a-8dbb-4d18-9410-0d4d9dec0fdb",
   "metadata": {},
   "outputs": [],
   "source": []
  },
  {
   "cell_type": "code",
   "execution_count": null,
   "id": "78a0ab0f-b6dd-4fe3-8c4a-60137da78014",
   "metadata": {},
   "outputs": [],
   "source": []
  },
  {
   "cell_type": "code",
   "execution_count": null,
   "id": "cfca4415-ba0a-4005-b31e-e0dc6e3af17b",
   "metadata": {},
   "outputs": [],
   "source": []
  },
  {
   "cell_type": "code",
   "execution_count": null,
   "id": "610e92c0-77c1-4c5c-a679-06a0dcc84600",
   "metadata": {},
   "outputs": [],
   "source": []
  },
  {
   "cell_type": "code",
   "execution_count": null,
   "id": "9a2cb4ad-3d65-4ebb-8bbf-c790b39c364d",
   "metadata": {},
   "outputs": [],
   "source": []
  },
  {
   "cell_type": "code",
   "execution_count": null,
   "id": "36364480-bdf2-45ae-a345-6f2b9bfafd98",
   "metadata": {},
   "outputs": [],
   "source": []
  },
  {
   "cell_type": "code",
   "execution_count": null,
   "id": "cd52c83a-5e2a-4a33-85ae-e4df689d17ba",
   "metadata": {},
   "outputs": [],
   "source": []
  },
  {
   "cell_type": "code",
   "execution_count": null,
   "id": "556a11a4-dfe4-4839-9dcc-260c3746a7c1",
   "metadata": {},
   "outputs": [],
   "source": []
  },
  {
   "cell_type": "code",
   "execution_count": null,
   "id": "f00b6403-82e0-47bb-9d18-b68d3d9ec65d",
   "metadata": {},
   "outputs": [],
   "source": []
  },
  {
   "cell_type": "code",
   "execution_count": null,
   "id": "97684cf9-7227-4a98-af2d-3e721d17aeda",
   "metadata": {},
   "outputs": [],
   "source": []
  },
  {
   "cell_type": "code",
   "execution_count": null,
   "id": "9c68be02-6578-4753-8f0c-91557761626e",
   "metadata": {},
   "outputs": [],
   "source": []
  },
  {
   "cell_type": "code",
   "execution_count": null,
   "id": "bb8c6d0e-ae05-41d4-8baa-4f996630f61e",
   "metadata": {},
   "outputs": [],
   "source": []
  }
 ],
 "metadata": {
  "kernelspec": {
   "display_name": "Python 3 (ipykernel)",
   "language": "python",
   "name": "python3"
  },
  "language_info": {
   "codemirror_mode": {
    "name": "ipython",
    "version": 3
   },
   "file_extension": ".py",
   "mimetype": "text/x-python",
   "name": "python",
   "nbconvert_exporter": "python",
   "pygments_lexer": "ipython3",
   "version": "3.12.4"
  }
 },
 "nbformat": 4,
 "nbformat_minor": 5
}
