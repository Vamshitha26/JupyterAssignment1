{
 "cells": [
  {
   "cell_type": "code",
   "execution_count": 27,
   "id": "3399572e-98f0-42c7-a92e-4d2e88ef80b2",
   "metadata": {},
   "outputs": [
    {
     "data": {
      "text/plain": [
       "3.3333333333333335"
      ]
     },
     "execution_count": 27,
     "metadata": {},
     "output_type": "execute_result"
    }
   ],
   "source": [
    "# This will convert 200 minutes to hours by diving by 60\n",
    "200/60"
   ]
  },
  {
   "cell_type": "markdown",
   "id": "8e5b9044-67ce-4367-8558-a700abf442aa",
   "metadata": {},
   "source": [
    "**Objectives:**\n",
    "* List popular tools for Data Science\n",
    "* Introduction to various libraries used in Data Science\n",
    "* Introduction to IBM Watson Studio\n",
    "* Introduction to GitHub\n",
    "* Introduction to various languages used in Data Science"
   ]
  },
  {
   "cell_type": "markdown",
   "id": "dbc0d7fa-c960-440f-81bd-7033a4bc0425",
   "metadata": {},
   "source": [
    "## Author\n",
    "Vamshitha Kundoor"
   ]
  },
  {
   "cell_type": "code",
   "execution_count": null,
   "id": "5d46f8e4-16db-4a3c-be1c-8657034fe605",
   "metadata": {},
   "outputs": [],
   "source": []
  },
  {
   "cell_type": "code",
   "execution_count": null,
   "id": "9a2cb4ad-3d65-4ebb-8bbf-c790b39c364d",
   "metadata": {},
   "outputs": [],
   "source": []
  },
  {
   "cell_type": "code",
   "execution_count": null,
   "id": "36364480-bdf2-45ae-a345-6f2b9bfafd98",
   "metadata": {},
   "outputs": [],
   "source": []
  },
  {
   "cell_type": "code",
   "execution_count": null,
   "id": "cd52c83a-5e2a-4a33-85ae-e4df689d17ba",
   "metadata": {},
   "outputs": [],
   "source": []
  },
  {
   "cell_type": "code",
   "execution_count": null,
   "id": "556a11a4-dfe4-4839-9dcc-260c3746a7c1",
   "metadata": {},
   "outputs": [],
   "source": []
  },
  {
   "cell_type": "code",
   "execution_count": null,
   "id": "f00b6403-82e0-47bb-9d18-b68d3d9ec65d",
   "metadata": {},
   "outputs": [],
   "source": []
  },
  {
   "cell_type": "code",
   "execution_count": null,
   "id": "97684cf9-7227-4a98-af2d-3e721d17aeda",
   "metadata": {},
   "outputs": [],
   "source": []
  },
  {
   "cell_type": "code",
   "execution_count": null,
   "id": "9c68be02-6578-4753-8f0c-91557761626e",
   "metadata": {},
   "outputs": [],
   "source": []
  },
  {
   "cell_type": "code",
   "execution_count": null,
   "id": "bb8c6d0e-ae05-41d4-8baa-4f996630f61e",
   "metadata": {},
   "outputs": [],
   "source": []
  }
 ],
 "metadata": {
  "kernelspec": {
   "display_name": "Python 3 (ipykernel)",
   "language": "python",
   "name": "python3"
  },
  "language_info": {
   "codemirror_mode": {
    "name": "ipython",
    "version": 3
   },
   "file_extension": ".py",
   "mimetype": "text/x-python",
   "name": "python",
   "nbconvert_exporter": "python",
   "pygments_lexer": "ipython3",
   "version": "3.12.4"
  }
 },
 "nbformat": 4,
 "nbformat_minor": 5
}
