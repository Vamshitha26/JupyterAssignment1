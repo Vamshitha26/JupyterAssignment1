{
 "cells": [
  {
   "cell_type": "markdown",
   "id": "1062e1ad-1b60-4d58-beca-21a3bf187f7c",
   "metadata": {},
   "source": [
    "# Data Science Tools and Ecosystem"
   ]
  },
  {
   "cell_type": "markdown",
   "id": "a47e988b-5ae9-4625-93a9-401133040a8e",
   "metadata": {},
   "source": [
    "In this notebook, Data Science Tools and Ecosystem are summarized."
   ]
  },
  {
   "cell_type": "markdown",
   "id": "760b091b-3144-4b8d-ab11-44e84e063abd",
   "metadata": {},
   "source": [
    "# Some of the popular languages that Data Scientists use are:\n",
    " 1. Python\n",
    " 2. R\n",
    " 3. SparkSQL"
   ]
  },
  {
   "cell_type": "markdown",
   "id": "5af5f25f-a92a-4b62-9397-743cb39a3390",
   "metadata": {},
   "source": [
    "**Objectives:Deep dive into Data Science**\n",
    "* Learn Arithmetic Operations\n",
    "* Learn Visualization\n",
    "* Learn Machine Learning\n",
    "* Learn Open source tools like Jupyter Notebook, Github\n",
    "* Accessing various tech communities"
   ]
  },
  {
   "cell_type": "markdown",
   "id": "70ca732d-d747-4848-9158-db97b2cffa39",
   "metadata": {},
   "source": [
    "# Some of the commonly used libraries used by Data Scientists include:\n",
    "* Numpy\n",
    "* Pandas\n",
    "* Matplotlib"
   ]
  },
  {
   "cell_type": "markdown",
   "id": "169c679e-e4fb-42bd-ad24-0d40776ef515",
   "metadata": {},
   "source": [
    "# Some of the tools used in Data Science:\n",
    "\n",
    "|Tool Number|Tool Name|\n",
    "|-----------|-----------|\n",
    "|1|Jupyter|\n",
    "2|Spark|"
   ]
  },
  {
   "cell_type": "markdown",
   "id": "06ea4574-39a9-49b4-8c99-e5d7a963131c",
   "metadata": {},
   "source": [
    "### Below are a few examples of evaluating arithmetic expressions in Python"
   ]
  },
  {
   "cell_type": "code",
   "execution_count": 30,
   "id": "c840bfb4-c2e1-41ce-a7e3-e4336cbcf709",
   "metadata": {},
   "outputs": [
    {
     "data": {
      "text/plain": [
       "17"
      ]
     },
     "execution_count": 30,
     "metadata": {},
     "output_type": "execute_result"
    }
   ],
   "source": [
    "# This a simple arithmetic expression to mutiply then add integers\n",
    "(3*4)+5"
   ]
  },
  {
   "cell_type": "code",
   "execution_count": 34,
   "id": "096cd448-12a4-43cc-b72e-27bb1e0a718a",
   "metadata": {},
   "outputs": [
    {
     "name": "stdout",
     "output_type": "stream",
     "text": [
      "Hours:  3.3333333333333335\n"
     ]
    }
   ],
   "source": [
    "# This will convert 200 minutes to hours by diving by 60\n",
    "hours = 200/60\n",
    "print(\"Hours: \", hours)\n"
   ]
  },
  {
   "cell_type": "markdown",
   "id": "d258b609-ea54-4d37-8289-b26016dbe30a",
   "metadata": {},
   "source": [
    "## Author \n",
    "Vamshitha Kundoor"
   ]
  },
  {
   "cell_type": "code",
   "execution_count": null,
   "id": "d6606aa1-4849-4263-94db-320d0f9c6070",
   "metadata": {},
   "outputs": [],
   "source": []
  },
  {
   "cell_type": "code",
   "execution_count": null,
   "id": "2d5191a2-81a6-479e-947d-939ab03613f7",
   "metadata": {},
   "outputs": [],
   "source": []
  },
  {
   "cell_type": "code",
   "execution_count": null,
   "id": "f3c8ed96-9833-43ef-9005-ab147e9f8736",
   "metadata": {},
   "outputs": [],
   "source": []
  },
  {
   "cell_type": "code",
   "execution_count": null,
   "id": "062f4fab-59e2-4bce-84a5-f911e8caaaca",
   "metadata": {},
   "outputs": [],
   "source": []
  }
 ],
 "metadata": {
  "kernelspec": {
   "display_name": "Python 3 (ipykernel)",
   "language": "python",
   "name": "python3"
  },
  "language_info": {
   "codemirror_mode": {
    "name": "ipython",
    "version": 3
   },
   "file_extension": ".py",
   "mimetype": "text/x-python",
   "name": "python",
   "nbconvert_exporter": "python",
   "pygments_lexer": "ipython3",
   "version": "3.12.4"
  }
 },
 "nbformat": 4,
 "nbformat_minor": 5
}
